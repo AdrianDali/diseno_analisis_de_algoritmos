{
  "nbformat": 4,
  "nbformat_minor": 0,
  "metadata": {
    "colab": {
      "name": "Untitled4.ipynb",
      "provenance": [],
      "authorship_tag": "ABX9TyOgoYpQ24p1YmU4uh7Y4YJM",
      "include_colab_link": true
    },
    "kernelspec": {
      "name": "python3",
      "display_name": "Python 3"
    },
    "language_info": {
      "name": "python"
    }
  },
  "cells": [
    {
      "cell_type": "markdown",
      "metadata": {
        "id": "view-in-github",
        "colab_type": "text"
      },
      "source": [
        "<a href=\"https://colab.research.google.com/github/AdrianDali/diseno_analisis_de_algoritmos/blob/main/numeros.ipynb\" target=\"_parent\"><img src=\"https://colab.research.google.com/assets/colab-badge.svg\" alt=\"Open In Colab\"/></a>"
      ]
    },
    {
      "cell_type": "markdown",
      "metadata": {
        "id": "QFMclwMwZWvU"
      },
      "source": [
        "\n",
        "\n",
        "---\n",
        "\n",
        "Fuerza bruta\n",
        "ejemplo1\n"
      ]
    },
    {
      "cell_type": "code",
      "metadata": {
        "colab": {
          "base_uri": "https://localhost:8080/"
        },
        "id": "LlIk7ViWZYD9",
        "outputId": "20c83121-7116-404f-a284-a047e95803f1"
      },
      "source": [
        "def string_match_brute(A,P):\n",
        "    for i in range(len(A) - len(P) + 1):\n",
        "        for j in range(len(P)):\n",
        "            if P[j] == A[i +j ]:\n",
        "                pass\n",
        "            else: \n",
        "                break \n",
        "        if j + 1 == len(P) and A[i+j] == P[j]:\n",
        "            print(f'se encontro la posicion: {i}')\n",
        "\n",
        "entrada = \"0011100101011011101101\"\n",
        "patron = \"01101\"\n",
        "string_match_brute(entrada,patron)\n"
      ],
      "execution_count": 3,
      "outputs": [
        {
          "output_type": "stream",
          "name": "stdout",
          "text": [
            "se encontro la posicion: 10\n",
            "se encontro la posicion: 17\n"
          ]
        }
      ]
    },
    {
      "cell_type": "code",
      "metadata": {
        "id": "bDw100HfZTmX"
      },
      "source": [
        ""
      ],
      "execution_count": null,
      "outputs": []
    }
  ]
}
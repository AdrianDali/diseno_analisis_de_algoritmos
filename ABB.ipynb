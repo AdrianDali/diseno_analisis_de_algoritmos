{
  "nbformat": 4,
  "nbformat_minor": 0,
  "metadata": {
    "colab": {
      "name": "Untitled3.ipynb",
      "provenance": [],
      "include_colab_link": true
    },
    "kernelspec": {
      "name": "python3",
      "display_name": "Python 3"
    },
    "language_info": {
      "name": "python"
    }
  },
  "cells": [
    {
      "cell_type": "markdown",
      "metadata": {
        "id": "view-in-github",
        "colab_type": "text"
      },
      "source": [
        "<a href=\"https://colab.research.google.com/github/AdrianDali/diseno_analisis_de_algoritmos/blob/main/ABB.ipynb\" target=\"_parent\"><img src=\"https://colab.research.google.com/assets/colab-badge.svg\" alt=\"Open In Colab\"/></a>"
      ]
    },
    {
      "cell_type": "code",
      "metadata": {
        "id": "JoA-5on2RU8i"
      },
      "source": [
        "class nodoArbol:\n",
        "    def __init__(self,value,left=None,rigth=None):\n",
        "        self.data = value\n",
        "        self.left = left\n",
        "        self.rigth = rigth\n",
        "\n",
        "class arbolBB:\n",
        "    def __init__(self):\n",
        "        if self.__root == None:\n",
        "            self.__root = NodoArbol(value)\n",
        "        else:\n",
        "            self.__insert_nodo__(self.__root, value)\n",
        "            \n",
        "    def __insert_nodo__(self, nodo, value):\n",
        "        if nodo.data == value:\n",
        "            print(\"Ya existe\")\n",
        "            pass \n",
        "        elif value < nodo.data:\n",
        "            if nodo.left == None:\n",
        "                nodo.left = NodoArbol(value)\n",
        "            else:\n",
        "                self.__insert_nodo__(nodo.left, value)\n",
        "        else:\n",
        "            if nodo.right == None:\n",
        "                nodo.right = NodoArbol(value)\n",
        "            else:\n",
        "                self.__insert_nodo__(nodo.right,value)\n",
        "\n",
        "      #preorden, posorden\n",
        "  def transversal (self,formato = 'inorden'):\n",
        "      if formato == 'inorden':\n",
        "          self.recorrido_in(self.__root)\n",
        "      elif formato == 'preorden':\n",
        "          pass\n",
        "      else: #post\n",
        "          pass\n",
        "\n",
        "  def recorrido_in (self, nodo):\n",
        "        if nodo != None:\n",
        "            self.recorrido_in(nodo.left)\n",
        "            print(nodo.data, end = \" \")\n",
        "            self.recorrido_in(nodo.right)\n",
        "\n",
        "    def recorrido_pre(self,nodo):\n",
        "        if nodo != None:\n",
        "            print(nodo.data, end=\"  \")\n",
        "            self.recorrido_pre(nodo.left)\n",
        "            self.recorrido_pre(nodo.rigth)\n",
        "    \n",
        "    def recorrido_pos(self,nodo):\n",
        "        if nodo != None:\n",
        "            print(nodo.data, end=\"  \")\n",
        "            self.recorrido_pos(nodo.left)\n",
        "            self.recorrido_pos(nodo.rigth)\n",
        "    \n",
        "    def buscar(self,value):\n",
        "        if self.__root == None:\n",
        "            print(\"Arbol vavion\")\n",
        "            return None\n",
        "        else:\n",
        "            return self.__busca_nodo(self.__root, value)\n",
        "    \n",
        "    def __busca_nodo(self, nodo, value):\n",
        "        if nodo == None:\n",
        "            print(\"no exite\")\n",
        "            return None\n",
        "        elif nodo.data == value:\n",
        "            print(\"encontrado\")\n",
        "            return nodo.data\n",
        "        elif value < nodo.data:\n",
        "            print(\"busvar del lado izquierdo\")\n",
        "            return __busca_nodo(nodo.left, value)\n",
        "        else:\n",
        "            print(\"buscar lado dereco\")\n",
        "            return __busca_nodo(nodo.rigth, value)\n",
        "\n",
        "            \n",
        "    \n",
        "\n"
      ],
      "execution_count": null,
      "outputs": []
    },
    {
      "cell_type": "code",
      "metadata": {
        "id": "tcwrz3yuRiwC"
      },
      "source": [
        "abb = ArbolBB()\n",
        "\n",
        "abb.insert(50)\n",
        "abb.insert(25)\n",
        "abb.insert(14)\n",
        "abb.insert(27)\n",
        "abb.insert(15)\n",
        "abb.insert(21)\n",
        "abb.insert(80)\n",
        "\n",
        "abb.transversal(\"inorden\")\n",
        "abb.transversal(\"preorden\")\n",
        "abb.transversal(\"posorden\")\n",
        "\n",
        "res = abb.buscar(28)\n",
        "print(\"-----------------\")\n",
        "res = abb.buscar(15)\n"
      ],
      "execution_count": null,
      "outputs": []
    },
    {
      "cell_type": "code",
      "metadata": {
        "id": "vjyXHQBHa0DT"
      },
      "source": [
        "raiz = nodoArbol(60, None, None)\n",
        "raiz.left = nodoArbol(40, None, None)\n",
        "print(raiz.left.data)\n",
        "\n",
        "raiz = nodoArbol(60,nodoArbol(40), None)\n",
        "print(raiz.left.data)\n",
        "\n",
        "raiz = nodoArbol(60,nodoArbol(40,nodoArbol(30)),nodoArbol(70))\n",
        "print(raiz.left.left.data)\n",
        "\n",
        "\n",
        "#Imprimiendo nodo de la izquierda, por medio de iteracion\n",
        "#Con curr_node, recorremos\n",
        "curr_node = raiz\n",
        "while curr_node.left != None:\n",
        "  curr_node = curr_node.left\n",
        "print(curr_node.data)"
      ],
      "execution_count": null,
      "outputs": []
    }
  ]
}
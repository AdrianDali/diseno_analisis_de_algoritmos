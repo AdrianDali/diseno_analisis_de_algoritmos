{
  "nbformat": 4,
  "nbformat_minor": 0,
  "metadata": {
    "colab": {
      "name": "Untitled2.ipynb",
      "provenance": [],
      "authorship_tag": "ABX9TyPLtv0rsrWco/3PHs3zQ6sb",
      "include_colab_link": true
    },
    "kernelspec": {
      "name": "python3",
      "display_name": "Python 3"
    },
    "language_info": {
      "name": "python"
    }
  },
  "cells": [
    {
      "cell_type": "markdown",
      "metadata": {
        "id": "view-in-github",
        "colab_type": "text"
      },
      "source": [
        "<a href=\"https://colab.research.google.com/github/AdrianDali/diseno_analisis_de_algoritmos/blob/main/SortBigO.ipynb\" target=\"_parent\"><img src=\"https://colab.research.google.com/assets/colab-badge.svg\" alt=\"Open In Colab\"/></a>"
      ]
    },
    {
      "cell_type": "code",
      "metadata": {
        "id": "9blvVThZv029"
      },
      "source": [
        "def mergeSort(data) :\n",
        "  tam = len(data)\n",
        "  if tam == 1:\n",
        "    return data \n",
        "\n",
        "  mid = tam // 2 \n",
        "  I = mergeSort(data[0:mid:1])\n",
        "  D = mergeSort(data[mid :: 1])\n",
        "  #print(f'{I}\\t\\t{D}')\n",
        "  return merge(I,D):\n",
        "\n",
        "\n",
        "def merge(I,D):\n",
        "  resultado = [] * (len(I) + len(D))\n",
        "  i = 0\n",
        "  d = 0\n",
        "  r = 0 \n",
        "  while i < len(I) and d < len(D):"
      ],
      "execution_count": 16,
      "outputs": []
    },
    {
      "cell_type": "code",
      "metadata": {
        "colab": {
          "base_uri": "https://localhost:8080/"
        },
        "id": "jtsQl87fzCEW",
        "outputId": "a6c6ad2f-32f1-4938-bbda-e22b8598fd99"
      },
      "source": [
        "numeros = [10,51,2,18,4,31,12,5]\n",
        "mergeSort(numeros)"
      ],
      "execution_count": 17,
      "outputs": [
        {
          "output_type": "stream",
          "name": "stdout",
          "text": [
            "[51]\t\t[10]\n",
            "[18]\t\t[2]\n",
            "None\t\tNone\n",
            "[31]\t\t[4]\n",
            "[5]\t\t[12]\n",
            "None\t\tNone\n",
            "None\t\tNone\n"
          ]
        }
      ]
    },
    {
      "cell_type": "code",
      "metadata": {
        "colab": {
          "base_uri": "https://localhost:8080/"
        },
        "id": "u_1zZD4uwfH_",
        "outputId": "1c520d20-f51c-4958-bbf9-f5f468e46362"
      },
      "source": [
        "frutas = ['peras','manzanas','kiwi', 'limon', 'aguacate','uva', 'sandia']\n",
        "print(frutas)\n",
        "#slicing cirve para sacar rebanadas de un iterable \n",
        "#frutas[<init>:<stop>:<incremento>]\n",
        "#NOTA:  el stop no se incluye, se incluye el valor previo\n",
        "print(frutas[2:6:1])\n",
        "print(len(frutas))\n",
        "mid = len(frutas) // 2\n",
        "print(mid)\n",
        "print(frutas[0 : mid : 1])\n",
        "print(frutas[mid :: 1])\n",
        "\n"
      ],
      "execution_count": 4,
      "outputs": [
        {
          "output_type": "stream",
          "name": "stdout",
          "text": [
            "['peras', 'manzanas', 'kiwi', 'limon', 'aguacate', 'uva', 'sandia']\n",
            "['kiwi', 'limon', 'aguacate', 'uva']\n",
            "7\n",
            "3\n",
            "['peras', 'manzanas', 'kiwi']\n",
            "['limon', 'aguacate', 'uva', 'sandia']\n"
          ]
        }
      ]
    },
    {
      "cell_type": "code",
      "metadata": {
        "colab": {
          "base_uri": "https://localhost:8080/"
        },
        "id": "s11fl64c18IO",
        "outputId": "7994a5a3-fdf3-4fb9-cadc-bc525a1b2a09"
      },
      "source": [
        "I = [2,8]\n",
        "d = [3,22]\n",
        "resultado = [0] * (len(I) * len(D))\n",
        "print(resultado)"
      ],
      "execution_count": 18,
      "outputs": [
        {
          "output_type": "stream",
          "name": "stdout",
          "text": [
            "[0, 0, 0, 0]\n"
          ]
        }
      ]
    }
  ]
}
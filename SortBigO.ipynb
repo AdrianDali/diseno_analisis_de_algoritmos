{
  "nbformat": 4,
  "nbformat_minor": 0,
  "metadata": {
    "colab": {
      "name": "Untitled2.ipynb",
      "provenance": [],
      "authorship_tag": "ABX9TyP3TOCYP2ZpXX4L40mchbIa",
      "include_colab_link": true
    },
    "kernelspec": {
      "name": "python3",
      "display_name": "Python 3"
    },
    "language_info": {
      "name": "python"
    }
  },
  "cells": [
    {
      "cell_type": "markdown",
      "metadata": {
        "id": "view-in-github",
        "colab_type": "text"
      },
      "source": [
        "<a href=\"https://colab.research.google.com/github/AdrianDali/diseno_analisis_de_algoritmos/blob/main/SortBigO.ipynb\" target=\"_parent\"><img src=\"https://colab.research.google.com/assets/colab-badge.svg\" alt=\"Open In Colab\"/></a>"
      ]
    },
    {
      "cell_type": "code",
      "metadata": {
        "id": "9blvVThZv029"
      },
      "source": [
        "#la division o el script\n",
        "def mergeSort(data): # M O(n) P O(1)\n",
        "  tam = len(data)    # M O(1) P O(1)\n",
        "  #si el tamano es igual a 1 estamos en el caso base\n",
        "  if tam == 1:     # M O(0) P O(na)\n",
        "    return data    # M O(0) P O(1)\n",
        "\n",
        "  mid = tam // 2  # M O(1) P O(2)\n",
        "  #arreglos derecho\n",
        "  I = mergeSort(data[0:mid:1]) # PARA PENSAR EN CASA! M O(0) P O(log n/2)\n",
        "  \n",
        "  #arreglo izquierdo\n",
        "  D = mergeSort(data[mid :: 1])\n",
        "  #print(f'{I}\\t\\t{D}')\n",
        "  return merge(I,D)\n",
        "\n",
        "#juntamos izquierda y derecha\n",
        "def merge(I,D):\n",
        "  resultado = [0] * (len(I) + len(D))\n",
        "  i = 0\n",
        "  d = 0\n",
        "  r = 0 \n",
        "  #mientras i estuviera dentro de su arreglo y d tambien \n",
        "  while i < len(I) and d < len(D):\n",
        "    if I[i] < D[d]:\n",
        "      resultado[r] = I[i]\n",
        "      i += 1\n",
        "    else:\n",
        "      resultado[r] = D[d]\n",
        "      #aumentamos en 1 los punteros\n",
        "      d += 1\n",
        "    r +=1 \n",
        "    #procesar los faltantes ya sea izquierda o derecha \n",
        "  while i < len(I):\n",
        "      resultado[r] = I[i]\n",
        "      i+=1\n",
        "      r+=1\n",
        "  while d < len(D):\n",
        "      resultado[r] = D[d]\n",
        "      d += 1\n",
        "      r +=1\n",
        "  return resultado"
      ],
      "execution_count": 9,
      "outputs": []
    },
    {
      "cell_type": "code",
      "metadata": {
        "colab": {
          "base_uri": "https://localhost:8080/"
        },
        "id": "jtsQl87fzCEW",
        "outputId": "f78ab3b1-fb86-4186-a348-519fd04f3d34"
      },
      "source": [
        "numeros = [10,51,2,18,4,31,12,5]\n",
        "print(mergeSort(numeros))"
      ],
      "execution_count": 10,
      "outputs": [
        {
          "output_type": "stream",
          "name": "stdout",
          "text": [
            "[2, 4, 5, 10, 12, 18, 31, 51]\n"
          ]
        }
      ]
    },
    {
      "cell_type": "code",
      "metadata": {
        "colab": {
          "base_uri": "https://localhost:8080/"
        },
        "id": "u_1zZD4uwfH_",
        "outputId": "1c520d20-f51c-4958-bbf9-f5f468e46362"
      },
      "source": [
        "frutas = ['peras','manzanas','kiwi', 'limon', 'aguacate','uva', 'sandia']\n",
        "print(frutas)\n",
        "#slicing cirve para sacar rebanadas de un iterable \n",
        "#frutas[<init>:<stop>:<incremento>]\n",
        "#NOTA:  el stop no se incluye, se incluye el valor previo\n",
        "print(frutas[2:6:1])\n",
        "print(len(frutas))\n",
        "mid = len(frutas) // 2\n",
        "print(mid)\n",
        "print(frutas[0 : mid : 1])\n",
        "print(frutas[mid :: 1])\n",
        "\n"
      ],
      "execution_count": null,
      "outputs": [
        {
          "output_type": "stream",
          "name": "stdout",
          "text": [
            "['peras', 'manzanas', 'kiwi', 'limon', 'aguacate', 'uva', 'sandia']\n",
            "['kiwi', 'limon', 'aguacate', 'uva']\n",
            "7\n",
            "3\n",
            "['peras', 'manzanas', 'kiwi']\n",
            "['limon', 'aguacate', 'uva', 'sandia']\n"
          ]
        }
      ]
    },
    {
      "cell_type": "code",
      "metadata": {
        "colab": {
          "base_uri": "https://localhost:8080/"
        },
        "id": "s11fl64c18IO",
        "outputId": "7994a5a3-fdf3-4fb9-cadc-bc525a1b2a09"
      },
      "source": [
        "I = [2,8]\n",
        "d = [3,22]\n",
        "resultado = [0] * (len(I) + len(D))\n",
        "print(resultado)"
      ],
      "execution_count": null,
      "outputs": [
        {
          "output_type": "stream",
          "name": "stdout",
          "text": [
            "[0, 0, 0, 0]\n"
          ]
        }
      ]
    }
  ]
}